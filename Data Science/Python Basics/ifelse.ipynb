{
 "cells": [
  {
   "cell_type": "code",
   "execution_count": 30,
   "id": "8eee6d27",
   "metadata": {},
   "outputs": [
    {
     "name": "stdout",
     "output_type": "stream",
     "text": [
      "hello\n"
     ]
    }
   ],
   "source": [
    "a = 30\n",
    "b = 20\n",
    "c = 10\n",
    "if b<a and a<c:\n",
    "   print(\"b is greater than a and a is less than c\")\n",
    "# elif b==a:\n",
    "#    print(\"b is equal to a\")\n",
    "else:\n",
    "#    print(\"b is less than a\")\n",
    "   print(\"hello\")"
   ]
  },
  {
   "cell_type": "code",
   "execution_count": 34,
   "id": "33b6376b",
   "metadata": {},
   "outputs": [
    {
     "name": "stdout",
     "output_type": "stream",
     "text": [
      "a is even\n"
     ]
    }
   ],
   "source": [
    "# Remove the variable 'print' if it exists to restore the built-in print function\n",
    "\n",
    "a = 10\n",
    "if a > 0:\n",
    "    if a % 2 == 0:\n",
    "        print(\"a is even\")\n",
    "    else:\n",
    "        print(\"a is add\")\n",
    "else:\n",
    "    print(\"a is negative\")"
   ]
  }
 ],
 "metadata": {
  "kernelspec": {
   "display_name": "Python 3",
   "language": "python",
   "name": "python3"
  },
  "language_info": {
   "codemirror_mode": {
    "name": "ipython",
    "version": 3
   },
   "file_extension": ".py",
   "mimetype": "text/x-python",
   "name": "python",
   "nbconvert_exporter": "python",
   "pygments_lexer": "ipython3",
   "version": "3.11.9"
  }
 },
 "nbformat": 4,
 "nbformat_minor": 5
}
